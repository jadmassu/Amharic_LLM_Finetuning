{
 "cells": [
  {
   "cell_type": "code",
   "execution_count": 3,
   "id": "00f1f254-aae8-4cee-90e5-72cb09527916",
   "metadata": {
    "tags": []
   },
   "outputs": [],
   "source": [
    "import os, sys\n",
    "from dotenv import load_dotenv\n",
    "import numpy as np \n",
    "import pandas as pd"
   ]
  },
  {
   "cell_type": "code",
   "execution_count": 5,
   "id": "bb5026c0-f4f5-477d-a012-73260b4a6a46",
   "metadata": {
    "tags": []
   },
   "outputs": [],
   "source": [
    "rpath = os.path.abspath('/home/user/Documents/10/w6/Amharic_LLM_Finetuning')\n",
    "\n",
    "if rpath not in sys.path:\n",
    "    sys.path.insert(0, rpath)"
   ]
  },
  {
   "cell_type": "code",
   "execution_count": null,
   "id": "14638906-9835-4242-ada6-5e318273e897",
   "metadata": {},
   "outputs": [],
   "source": [
    "import scripts.tokenization as tk"
   ]
  },
  {
   "cell_type": "code",
   "execution_count": null,
   "id": "df94b6be-717c-47c3-881e-5e058b03a99a",
   "metadata": {},
   "outputs": [],
   "source": [
    "tokenizer = tk.AmharicTokenizer('../data/cleand.csv','article')\n",
    "amharic_text = 'እንዴት ነህ?'\n",
    "tokens = tokenizer.tokenize(amharic_text)"
   ]
  }
 ],
 "metadata": {
  "kernelspec": {
   "display_name": "Python 3 (ipykernel)",
   "language": "python",
   "name": "python3"
  },
  "language_info": {
   "codemirror_mode": {
    "name": "ipython",
    "version": 3
   },
   "file_extension": ".py",
   "mimetype": "text/x-python",
   "name": "python",
   "nbconvert_exporter": "python",
   "pygments_lexer": "ipython3",
   "version": "3.11.7"
  }
 },
 "nbformat": 4,
 "nbformat_minor": 5
}
