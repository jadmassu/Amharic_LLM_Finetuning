{
 "cells": [
  {
   "cell_type": "code",
   "execution_count": 2,
   "id": "9294c23f-647a-4acb-b9fe-3645c4815a0d",
   "metadata": {},
   "outputs": [],
   "source": [
    "import os, sys\n",
    "from dotenv import load_dotenv\n",
    "import numpy as np \n",
    "import pandas as pd"
   ]
  },
  {
   "cell_type": "code",
   "execution_count": 3,
   "id": "1c3b6bbb-d07a-4b6e-8e36-e1195240193f",
   "metadata": {
    "tags": []
   },
   "outputs": [],
   "source": [
    "rpath = os.path.abspath('/home/user/Documents/10/w6/Amharic_LLM_Finetuning')\n",
    "\n",
    "if rpath not in sys.path:\n",
    "    sys.path.insert(0, rpath)\n"
   ]
  },
  {
   "cell_type": "code",
   "execution_count": 4,
   "id": "5e55318a-8cc8-4b1f-9363-955214f71149",
   "metadata": {
    "tags": []
   },
   "outputs": [],
   "source": [
    "import scripts.cleaner as clr"
   ]
  },
  {
   "cell_type": "code",
   "execution_count": 7,
   "id": "d3821f72-f064-4b35-ac35-ef242d212297",
   "metadata": {
    "tags": []
   },
   "outputs": [
    {
     "data": {
      "text/html": [
       "<div>\n",
       "<style scoped>\n",
       "    .dataframe tbody tr th:only-of-type {\n",
       "        vertical-align: middle;\n",
       "    }\n",
       "\n",
       "    .dataframe tbody tr th {\n",
       "        vertical-align: top;\n",
       "    }\n",
       "\n",
       "    .dataframe thead th {\n",
       "        text-align: right;\n",
       "    }\n",
       "</style>\n",
       "<table border=\"1\" class=\"dataframe\">\n",
       "  <thead>\n",
       "    <tr style=\"text-align: right;\">\n",
       "      <th></th>\n",
       "      <th>article</th>\n",
       "      <th>category</th>\n",
       "    </tr>\n",
       "  </thead>\n",
       "  <tbody>\n",
       "    <tr>\n",
       "      <th>0</th>\n",
       "      <td>አባስ ሁሴን በዋሺንግተን ዲሲ እና አካባቢዎ ከ20 ዓመት በላይ የኖረ ትው...</td>\n",
       "      <td>Local News</td>\n",
       "    </tr>\n",
       "    <tr>\n",
       "      <th>1</th>\n",
       "      <td>አዲስ አበባ፣ ጥቅምት 13፣ 2013 (ኤፍ.ቢ.ሲ) በተያዘው በጀት ዓመት ...</td>\n",
       "      <td>Local News</td>\n",
       "    </tr>\n",
       "    <tr>\n",
       "      <th>2</th>\n",
       "      <td>የተወለደው አዲስ አበባ ካሳንችስ አካባቢ ነው። ከጅማ ዩኒቨርስቲ በኢኮኖሚ...</td>\n",
       "      <td>Entertainment</td>\n",
       "    </tr>\n",
       "    <tr>\n",
       "      <th>3</th>\n",
       "      <td>ነባሩን የሕወሓት አመራር አባል አቶ ብርሃነ ኪዳነ ማርያምን ከሁለት ዓመት...</td>\n",
       "      <td>Politics</td>\n",
       "    </tr>\n",
       "    <tr>\n",
       "      <th>4</th>\n",
       "      <td>ድሬዳዋ ከተማ ሶስት ተጫዋቾችን በማሰናበቱ ፌድሬሽኑ ያለ አግባብ ነው ውሳ...</td>\n",
       "      <td>Sports</td>\n",
       "    </tr>\n",
       "  </tbody>\n",
       "</table>\n",
       "</div>"
      ],
      "text/plain": [
       "                                             article       category\n",
       "0  አባስ ሁሴን በዋሺንግተን ዲሲ እና አካባቢዎ ከ20 ዓመት በላይ የኖረ ትው...     Local News\n",
       "1  አዲስ አበባ፣ ጥቅምት 13፣ 2013 (ኤፍ.ቢ.ሲ) በተያዘው በጀት ዓመት ...     Local News\n",
       "2  የተወለደው አዲስ አበባ ካሳንችስ አካባቢ ነው። ከጅማ ዩኒቨርስቲ በኢኮኖሚ...  Entertainment\n",
       "3  ነባሩን የሕወሓት አመራር አባል አቶ ብርሃነ ኪዳነ ማርያምን ከሁለት ዓመት...       Politics\n",
       "4  ድሬዳዋ ከተማ ሶስት ተጫዋቾችን በማሰናበቱ ፌድሬሽኑ ያለ አግባብ ነው ውሳ...         Sports"
      ]
     },
     "execution_count": 7,
     "metadata": {},
     "output_type": "execute_result"
    }
   ],
   "source": [
    "path = '/home/user/Documents/10/w6/Amharic_LLM_Finetuning/data/Amharic_corpus_merged_2023-04-16.csv'\n",
    "data = pd.read_csv(path) #, usecols=['article', 'category'])\n",
    "data.head(5)"
   ]
  },
  {
   "cell_type": "code",
   "execution_count": 5,
   "id": "8ad9ffac-ae1e-4f1f-bdd2-0112d0b8d5fa",
   "metadata": {
    "tags": []
   },
   "outputs": [
    {
     "data": {
      "text/plain": [
       "category\n",
       "Local News            20674\n",
       "Politics              14481\n",
       "Sports                10411\n",
       "Business               9170\n",
       "International News     6543\n",
       "Entertainment           635\n",
       "Others                    1\n",
       "Name: count, dtype: int64"
      ]
     },
     "execution_count": 5,
     "metadata": {},
     "output_type": "execute_result"
    }
   ],
   "source": [
    "data.category.value_counts()"
   ]
  },
  {
   "cell_type": "code",
   "execution_count": 9,
   "id": "265cf6e1-c932-4873-8f14-727e35904a25",
   "metadata": {
    "tags": []
   },
   "outputs": [
    {
     "data": {
      "text/plain": [
       "array(['Local News', 'Entertainment', 'Politics', 'Sports', 'Business',\n",
       "       'International News', 'Others'], dtype=object)"
      ]
     },
     "execution_count": 9,
     "metadata": {},
     "output_type": "execute_result"
    }
   ],
   "source": [
    "data.category.unique()"
   ]
  },
  {
   "cell_type": "code",
   "execution_count": 10,
   "id": "614b28cf-5e91-412d-b1f0-04a81ce0678a",
   "metadata": {
    "tags": []
   },
   "outputs": [],
   "source": [
    "data['article'] = data['article'].str.replace(r'[^\\w\\s]','')"
   ]
  },
  {
   "cell_type": "code",
   "execution_count": 11,
   "id": "5ba64c4b-13ad-4015-b65f-7b19ee211611",
   "metadata": {
    "tags": []
   },
   "outputs": [],
   "source": [
    "dc = clr.DataCleaner(data)"
   ]
  },
  {
   "cell_type": "code",
   "execution_count": 12,
   "id": "2279b577-3ea3-4241-91e0-9ec71f46ae7a",
   "metadata": {
    "tags": []
   },
   "outputs": [],
   "source": [
    "data['article'] = data['article'].apply(lambda x: dc.normalize_char_level_missmatch(x))"
   ]
  },
  {
   "cell_type": "code",
   "execution_count": 13,
   "id": "e0e00f7d-982b-444c-becd-a31fa53037d4",
   "metadata": {
    "tags": []
   },
   "outputs": [],
   "source": [
    "data['article'] =data['article'].apply(lambda x: dc.remove_punc_and_special_chars(x))"
   ]
  },
  {
   "cell_type": "code",
   "execution_count": 23,
   "id": "bcca1bdd-ccfb-4783-89bc-60ccfa4e34df",
   "metadata": {
    "tags": []
   },
   "outputs": [],
   "source": [
    "data['article'] =data['article'].apply(lambda x: dc.remove_ascii_and_numbers(x))\n"
   ]
  },
  {
   "cell_type": "code",
   "execution_count": 24,
   "id": "b9ab1048-16b1-41df-9139-7cd4b9a051f0",
   "metadata": {
    "tags": []
   },
   "outputs": [
    {
     "data": {
      "text/html": [
       "<div>\n",
       "<style scoped>\n",
       "    .dataframe tbody tr th:only-of-type {\n",
       "        vertical-align: middle;\n",
       "    }\n",
       "\n",
       "    .dataframe tbody tr th {\n",
       "        vertical-align: top;\n",
       "    }\n",
       "\n",
       "    .dataframe thead th {\n",
       "        text-align: right;\n",
       "    }\n",
       "</style>\n",
       "<table border=\"1\" class=\"dataframe\">\n",
       "  <thead>\n",
       "    <tr style=\"text-align: right;\">\n",
       "      <th></th>\n",
       "      <th>article</th>\n",
       "      <th>category</th>\n",
       "    </tr>\n",
       "  </thead>\n",
       "  <tbody>\n",
       "    <tr>\n",
       "      <th>0</th>\n",
       "      <td>አባስ ሁሴን በዋሺንግተን ዲሲ እና አካባቢዎ ከ አመት በላይ የኖረ ትውልደ...</td>\n",
       "      <td>Local News</td>\n",
       "    </tr>\n",
       "    <tr>\n",
       "      <th>1</th>\n",
       "      <td>አዲስ አበባ ጥቅምት   ኤፍቢሲ በተያዘው በጀት አመት የመጀመሪያ ሩብ አመ...</td>\n",
       "      <td>Local News</td>\n",
       "    </tr>\n",
       "    <tr>\n",
       "      <th>2</th>\n",
       "      <td>የተወለደው አዲስ አበባ ካሳንችስ አካባቢ ነው ከጅማ ዩኒቨርስቲ በኢኮኖሚክ...</td>\n",
       "      <td>Entertainment</td>\n",
       "    </tr>\n",
       "    <tr>\n",
       "      <th>3</th>\n",
       "      <td>ነባሩን የህወሀት አመራር አባል አቶ ብርሀነ ኪዳነ ማርያምን ከሁለት አመት...</td>\n",
       "      <td>Politics</td>\n",
       "    </tr>\n",
       "    <tr>\n",
       "      <th>4</th>\n",
       "      <td>ድሬዳዋ ከተማ ሶስት ተጫዋቾችን በማሰናበቱ ፌድሬሽኑ ያለ አግባብ ነው ውሳ...</td>\n",
       "      <td>Sports</td>\n",
       "    </tr>\n",
       "  </tbody>\n",
       "</table>\n",
       "</div>"
      ],
      "text/plain": [
       "                                             article       category\n",
       "0  አባስ ሁሴን በዋሺንግተን ዲሲ እና አካባቢዎ ከ አመት በላይ የኖረ ትውልደ...     Local News\n",
       "1  አዲስ አበባ ጥቅምት   ኤፍቢሲ በተያዘው በጀት አመት የመጀመሪያ ሩብ አመ...     Local News\n",
       "2  የተወለደው አዲስ አበባ ካሳንችስ አካባቢ ነው ከጅማ ዩኒቨርስቲ በኢኮኖሚክ...  Entertainment\n",
       "3  ነባሩን የህወሀት አመራር አባል አቶ ብርሀነ ኪዳነ ማርያምን ከሁለት አመት...       Politics\n",
       "4  ድሬዳዋ ከተማ ሶስት ተጫዋቾችን በማሰናበቱ ፌድሬሽኑ ያለ አግባብ ነው ውሳ...         Sports"
      ]
     },
     "execution_count": 24,
     "metadata": {},
     "output_type": "execute_result"
    }
   ],
   "source": [
    "data.head(5)"
   ]
  },
  {
   "cell_type": "code",
   "execution_count": 33,
   "id": "0b532e3c-16af-491d-a00f-8ac334278934",
   "metadata": {
    "tags": []
   },
   "outputs": [],
   "source": [
    " dc.export_to_csv(data, \"../data/cleand.csv\")\n",
    "# to_csv(file_name, index=False)"
   ]
  },
  {
   "cell_type": "code",
   "execution_count": 8,
   "id": "2cc2c93b-c732-45b2-8703-87728c17ad5e",
   "metadata": {
    "tags": []
   },
   "outputs": [],
   "source": []
  },
  {
   "cell_type": "code",
   "execution_count": 20,
   "id": "55949389-1785-4706-8dc6-ed9c1195faf3",
   "metadata": {
    "tags": []
   },
   "outputs": [],
   "source": []
  },
  {
   "cell_type": "code",
   "execution_count": 22,
   "id": "cb24728e-7c65-4fce-91d3-ece52777eb48",
   "metadata": {
    "tags": []
   },
   "outputs": [],
   "source": []
  },
  {
   "cell_type": "code",
   "execution_count": 10,
   "id": "e7c67020-c663-4490-b6d5-4e959af15872",
   "metadata": {
    "tags": []
   },
   "outputs": [
    {
     "name": "stdout",
     "output_type": "stream",
     "text": [
      "['▁እን', 'ዴ', 'ት', '▁', 'ነ', 'ህ', '?']\n"
     ]
    },
    {
     "name": "stderr",
     "output_type": "stream",
     "text": [
      "sentencepiece_trainer.cc(78) LOG(INFO) Starts training with : \n",
      "trainer_spec {\n",
      "  input: ../data/amharic_text.txt\n",
      "  input_format: \n",
      "  model_prefix: amharic_model\n",
      "  model_type: UNIGRAM\n",
      "  vocab_size: 1000\n",
      "  self_test_sample_size: 0\n",
      "  character_coverage: 0.9995\n",
      "  input_sentence_size: 0\n",
      "  shuffle_input_sentence: 1\n",
      "  seed_sentencepiece_size: 1000000\n",
      "  shrinking_factor: 0.75\n",
      "  max_sentence_length: 4192\n",
      "  num_threads: 16\n",
      "  num_sub_iterations: 2\n",
      "  max_sentencepiece_length: 16\n",
      "  split_by_unicode_script: 1\n",
      "  split_by_number: 1\n",
      "  split_by_whitespace: 1\n",
      "  split_digits: 0\n",
      "  pretokenization_delimiter: \n",
      "  treat_whitespace_as_suffix: 0\n",
      "  allow_whitespace_only_pieces: 0\n",
      "  required_chars: \n",
      "  byte_fallback: 0\n",
      "  vocabulary_output_piece_score: 1\n",
      "  train_extremely_large_corpus: 0\n",
      "  seed_sentencepieces_file: \n",
      "  hard_vocab_limit: 1\n",
      "  use_all_vocab: 0\n",
      "  unk_id: 0\n",
      "  bos_id: 1\n",
      "  eos_id: 2\n",
      "  pad_id: -1\n",
      "  unk_piece: <unk>\n",
      "  bos_piece: <s>\n",
      "  eos_piece: </s>\n",
      "  pad_piece: <pad>\n",
      "  unk_surface:  ⁇ \n",
      "  enable_differential_privacy: 0\n",
      "  differential_privacy_noise_level: 0\n",
      "  differential_privacy_clipping_threshold: 0\n",
      "}\n",
      "normalizer_spec {\n",
      "  name: nmt_nfkc\n",
      "  add_dummy_prefix: 1\n",
      "  remove_extra_whitespaces: 1\n",
      "  escape_whitespaces: 1\n",
      "  normalization_rule_tsv: \n",
      "}\n",
      "denormalizer_spec {}\n",
      "trainer_interface.cc(353) LOG(INFO) SentenceIterator is not specified. Using MultiFileSentenceIterator.\n",
      "trainer_interface.cc(185) LOG(INFO) Loading corpus: ../data/amharic_text.txt\n",
      "trainer_interface.cc(380) LOG(WARNING) Found too long line (4843 > 4192).\n",
      "trainer_interface.cc(382) LOG(WARNING) Too long lines are skipped in the training.\n",
      "trainer_interface.cc(383) LOG(WARNING) The maximum length can be changed with --max_sentence_length=<size> flag.\n",
      "trainer_interface.cc(409) LOG(INFO) Loaded all 299826 sentences\n",
      "trainer_interface.cc(416) LOG(INFO) Skipped 10791 too long sentences.\n",
      "trainer_interface.cc(425) LOG(INFO) Adding meta_piece: <unk>\n",
      "trainer_interface.cc(425) LOG(INFO) Adding meta_piece: <s>\n",
      "trainer_interface.cc(425) LOG(INFO) A"
     ]
    }
   ],
   "source": []
  },
  {
   "cell_type": "code",
   "execution_count": null,
   "id": "12e80b44-6ba1-499b-94dc-8852bb72a9b5",
   "metadata": {},
   "outputs": [],
   "source": []
  }
 ],
 "metadata": {
  "kernelspec": {
   "display_name": "Python 3 (ipykernel)",
   "language": "python",
   "name": "python3"
  },
  "language_info": {
   "codemirror_mode": {
    "name": "ipython",
    "version": 3
   },
   "file_extension": ".py",
   "mimetype": "text/x-python",
   "name": "python",
   "nbconvert_exporter": "python",
   "pygments_lexer": "ipython3",
   "version": "3.11.7"
  }
 },
 "nbformat": 4,
 "nbformat_minor": 5
}
